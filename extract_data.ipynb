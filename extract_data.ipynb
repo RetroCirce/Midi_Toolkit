{
 "cells": [
  {
   "cell_type": "code",
   "execution_count": 1,
   "metadata": {},
   "outputs": [],
   "source": [
    "import numpy as np\n",
    "import pretty_midi as pyd\n",
    "from data_processor.midi_extractor import MidiExtractor\n",
    "import os"
   ]
  },
  {
   "cell_type": "code",
   "execution_count": 22,
   "metadata": {},
   "outputs": [],
   "source": [
    "file_path = \"../dataset/cleaned/Hymnal-Folk/Children/134.mid\"\n",
    "file_path2 = \"../dataset/cleaned/Ragtime-perfect-Jazz/chiblues.mid\"\n"
   ]
  },
  {
   "cell_type": "code",
   "execution_count": 23,
   "metadata": {},
   "outputs": [],
   "source": [
    "# processed Multipianomide-Classic\n",
    "\n",
    "\n",
    "processor = MidiExtractor(bpm=120, note_thres=[24, 108], denominator_thres=[2, 4, 8])\n",
    "\n",
    "\n",
    "\n",
    "midi_dict = processor.process(file_path2)\n",
    "# for key in midi_dict:\n",
    "#     print(key, midi_dict[key])\n",
    "#     print(\"\")\n",
    "processor.reconstruct(midi_dict, \"extract_9.mid\")\n",
    "    \n"
   ]
  },
  {
   "cell_type": "code",
   "execution_count": null,
   "metadata": {},
   "outputs": [],
   "source": [
    "-"
   ]
  }
 ],
 "metadata": {
  "interpreter": {
   "hash": "e61e1a2ef0fe92f95c149ca45e23a8913f203f25daf0ae4c19cd70177bf05ce6"
  },
  "kernelspec": {
   "display_name": "Python 3.8.8 64-bit ('base': conda)",
   "name": "python3"
  },
  "language_info": {
   "codemirror_mode": {
    "name": "ipython",
    "version": 3
   },
   "file_extension": ".py",
   "mimetype": "text/x-python",
   "name": "python",
   "nbconvert_exporter": "python",
   "pygments_lexer": "ipython3",
   "version": "3.8.8"
  },
  "orig_nbformat": 4
 },
 "nbformat": 4,
 "nbformat_minor": 2
}
