{
 "cells": [
  {
   "cell_type": "code",
   "execution_count": 1,
   "metadata": {},
   "outputs": [],
   "source": [
    "import numpy as np\n",
    "import os\n",
    "import pretty_midi as pyd"
   ]
  },
  {
   "cell_type": "code",
   "execution_count": 4,
   "metadata": {},
   "outputs": [
    {
     "name": "stdout",
     "output_type": "stream",
     "text": [
      "['../dataset/cleaned/American-Folk', '../dataset/cleaned/American-Folk\\\\1800s', '../dataset/cleaned/American-Folk\\\\1900s', '../dataset/cleaned/American-Folk\\\\alexander', '../dataset/cleaned/American-Folk\\\\bliss', '../dataset/cleaned/American-Folk\\\\blues', '../dataset/cleaned/American-Folk\\\\bond', '../dataset/cleaned/American-Folk\\\\civilwar', '../dataset/cleaned/American-Folk\\\\civilwar2', '../dataset/cleaned/American-Folk\\\\folk', '../dataset/cleaned/American-Folk\\\\foster', '../dataset/cleaned/American-Folk\\\\hays', '../dataset/cleaned/American-Folk\\\\heinrich', '../dataset/cleaned/American-Folk\\\\herbert', '../dataset/cleaned/American-Folk\\\\hewitt', '../dataset/cleaned/American-Folk\\\\hymns', '../dataset/cleaned/American-Folk\\\\images', '../dataset/cleaned/American-Folk\\\\mo', '../dataset/cleaned/American-Folk\\\\myriad', '../dataset/cleaned/American-Folk\\\\naval', '../dataset/cleaned/American-Folk\\\\ragtime', '../dataset/cleaned/American-Folk\\\\root-fw', '../dataset/cleaned/American-Folk\\\\root-gf', '../dataset/cleaned/American-Folk\\\\russell', '../dataset/cleaned/American-Folk\\\\sacred-harp', '../dataset/cleaned/American-Folk\\\\spirituals', '../dataset/cleaned/American-Folk\\\\theory', '../dataset/cleaned/American-Folk\\\\thomas', '../dataset/cleaned/American-Folk\\\\towne', '../dataset/cleaned/American-Folk\\\\tubb', '../dataset/cleaned/American-Folk\\\\tucker', '../dataset/cleaned/American-Folk\\\\wallace', '../dataset/cleaned/American-Folk\\\\webster', '../dataset/cleaned/American-Folk\\\\winner', '../dataset/cleaned/American-Folk\\\\work', '../dataset/cleaned/Hymnal-Folk', '../dataset/cleaned/Hymnal-Folk\\\\Children', '../dataset/cleaned/Hymnal-Folk\\\\Classic', '../dataset/cleaned/Hymnal-Folk\\\\New Songs', '../dataset/cleaned/Hymnal-Tune-Folk', '../dataset/cleaned/Hymnal-Tune-Folk\\\\Children', '../dataset/cleaned/Hymnal-Tune-Folk\\\\Classic', '../dataset/cleaned/Hymnal-Tune-Folk\\\\New Songs', '../dataset/cleaned/Mfilepiano-Classic', '../dataset/cleaned/Multipianomide-Classic', '../dataset/cleaned/Multipianomide-Classic\\\\albeniz', '../dataset/cleaned/Multipianomide-Classic\\\\bach', '../dataset/cleaned/Multipianomide-Classic\\\\balakirew', '../dataset/cleaned/Multipianomide-Classic\\\\beethoven', '../dataset/cleaned/Multipianomide-Classic\\\\borodin', '../dataset/cleaned/Multipianomide-Classic\\\\brahms', '../dataset/cleaned/Multipianomide-Classic\\\\burgmueller', '../dataset/cleaned/Multipianomide-Classic\\\\chopin', '../dataset/cleaned/Multipianomide-Classic\\\\clementi', '../dataset/cleaned/Multipianomide-Classic\\\\debussy', '../dataset/cleaned/Multipianomide-Classic\\\\format0', '../dataset/cleaned/Multipianomide-Classic\\\\godowsky', '../dataset/cleaned/Multipianomide-Classic\\\\granados', '../dataset/cleaned/Multipianomide-Classic\\\\grieg', '../dataset/cleaned/Multipianomide-Classic\\\\haydn', '../dataset/cleaned/Multipianomide-Classic\\\\liszt', '../dataset/cleaned/Multipianomide-Classic\\\\mendelssohn', '../dataset/cleaned/Multipianomide-Classic\\\\moszkowski', '../dataset/cleaned/Multipianomide-Classic\\\\mozart', '../dataset/cleaned/Multipianomide-Classic\\\\mussorgsky', '../dataset/cleaned/Multipianomide-Classic\\\\rachmaninow', '../dataset/cleaned/Multipianomide-Classic\\\\ravel', '../dataset/cleaned/Multipianomide-Classic\\\\schubert', '../dataset/cleaned/Multipianomide-Classic\\\\schumann', '../dataset/cleaned/Multipianomide-Classic\\\\sinding', '../dataset/cleaned/Multipianomide-Classic\\\\tchaikovsky', '../dataset/cleaned/Multipianomide-Classic\\\\xmas', '../dataset/cleaned/Pop1k7-POP', '../dataset/cleaned/Pop1k7-POP\\\\src_001', '../dataset/cleaned/Pop1k7-POP\\\\src_002', '../dataset/cleaned/Pop1k7-POP\\\\src_003', '../dataset/cleaned/Pop1k7-POP\\\\src_004', '../dataset/cleaned/Ragtime-Jazz', '../dataset/cleaned/Ragtime-perfect-Jazz']\n"
     ]
    }
   ],
   "source": [
    "dataset_path = \"../dataset/cleaned/\"\n",
    "dataset_folder = os.listdir(dataset_path) #  ['Ragtime-perfect-Jazz'] \n",
    "# remove undecided datasets\n",
    "dataset_folder.remove('American-Folk')\n",
    "dataset_folder.remove('Hymnal-Tune-Folk')\n",
    "temp_folder = []\n",
    "for folder in dataset_folder:\n",
    "    temp_folder.append(os.path.join(dataset_path, folder))\n",
    "    q = os.path.join(dataset_path, folder)\n",
    "    for subfolder in os.listdir(q):\n",
    "        if os.path.isdir(os.path.join(q, subfolder)):\n",
    "            temp_folder.append(os.path.join(q, subfolder))\n",
    "dataset_folder = temp_folder\n",
    "print(dataset_folder)\n",
    "\n"
   ]
  },
  {
   "cell_type": "code",
   "execution_count": 5,
   "metadata": {},
   "outputs": [
    {
     "name": "stdout",
     "output_type": "stream",
     "text": [
      "../dataset/cleaned/American-Folk\n",
      "{}\n",
      "-----------------------\n"
     ]
    },
    {
     "ename": "KeyboardInterrupt",
     "evalue": "",
     "output_type": "error",
     "traceback": [
      "\u001b[1;31m---------------------------------------------------------------------------\u001b[0m",
      "\u001b[1;31mKeyboardInterrupt\u001b[0m                         Traceback (most recent call last)",
      "\u001b[1;32m<ipython-input-5-e11955ad902c>\u001b[0m in \u001b[0;36m<module>\u001b[1;34m\u001b[0m\n\u001b[0;32m      6\u001b[0m     \u001b[1;32mfor\u001b[0m \u001b[0mf\u001b[0m \u001b[1;32min\u001b[0m \u001b[0mfilelist\u001b[0m\u001b[1;33m:\u001b[0m\u001b[1;33m\u001b[0m\u001b[1;33m\u001b[0m\u001b[0m\n\u001b[0;32m      7\u001b[0m         \u001b[1;32mif\u001b[0m \u001b[0mf\u001b[0m\u001b[1;33m.\u001b[0m\u001b[0mendswith\u001b[0m\u001b[1;33m(\u001b[0m\u001b[1;34m\".mid\"\u001b[0m\u001b[1;33m)\u001b[0m\u001b[1;33m:\u001b[0m\u001b[1;33m\u001b[0m\u001b[1;33m\u001b[0m\u001b[0m\n\u001b[1;32m----> 8\u001b[1;33m             \u001b[0mmidi_file\u001b[0m \u001b[1;33m=\u001b[0m \u001b[0mpyd\u001b[0m\u001b[1;33m.\u001b[0m\u001b[0mPrettyMIDI\u001b[0m\u001b[1;33m(\u001b[0m\u001b[0mos\u001b[0m\u001b[1;33m.\u001b[0m\u001b[0mpath\u001b[0m\u001b[1;33m.\u001b[0m\u001b[0mjoin\u001b[0m\u001b[1;33m(\u001b[0m\u001b[0mfolder\u001b[0m\u001b[1;33m,\u001b[0m \u001b[0mf\u001b[0m\u001b[1;33m)\u001b[0m\u001b[1;33m)\u001b[0m\u001b[1;33m\u001b[0m\u001b[1;33m\u001b[0m\u001b[0m\n\u001b[0m\u001b[0;32m      9\u001b[0m             \u001b[0mts\u001b[0m \u001b[1;33m=\u001b[0m \u001b[1;33m(\u001b[0m\u001b[0mmidi_file\u001b[0m\u001b[1;33m.\u001b[0m\u001b[0mtime_signature_changes\u001b[0m\u001b[1;33m)\u001b[0m\u001b[1;33m\u001b[0m\u001b[1;33m\u001b[0m\u001b[0m\n\u001b[0;32m     10\u001b[0m             \u001b[1;32mfor\u001b[0m \u001b[0mtemp_ts\u001b[0m \u001b[1;32min\u001b[0m \u001b[0mts\u001b[0m\u001b[1;33m:\u001b[0m\u001b[1;33m\u001b[0m\u001b[1;33m\u001b[0m\u001b[0m\n",
      "\u001b[1;32m~\\anaconda3\\lib\\site-packages\\pretty_midi\\pretty_midi.py\u001b[0m in \u001b[0;36m__init__\u001b[1;34m(self, midi_file, resolution, initial_tempo)\u001b[0m\n\u001b[0;32m     58\u001b[0m             \u001b[1;32mif\u001b[0m \u001b[0misinstance\u001b[0m\u001b[1;33m(\u001b[0m\u001b[0mmidi_file\u001b[0m\u001b[1;33m,\u001b[0m \u001b[0msix\u001b[0m\u001b[1;33m.\u001b[0m\u001b[0mstring_types\u001b[0m\u001b[1;33m)\u001b[0m\u001b[1;33m:\u001b[0m\u001b[1;33m\u001b[0m\u001b[1;33m\u001b[0m\u001b[0m\n\u001b[0;32m     59\u001b[0m                 \u001b[1;31m# If a string was given, pass it as the string filename\u001b[0m\u001b[1;33m\u001b[0m\u001b[1;33m\u001b[0m\u001b[1;33m\u001b[0m\u001b[0m\n\u001b[1;32m---> 60\u001b[1;33m                 \u001b[0mmidi_data\u001b[0m \u001b[1;33m=\u001b[0m \u001b[0mmido\u001b[0m\u001b[1;33m.\u001b[0m\u001b[0mMidiFile\u001b[0m\u001b[1;33m(\u001b[0m\u001b[0mfilename\u001b[0m\u001b[1;33m=\u001b[0m\u001b[0mmidi_file\u001b[0m\u001b[1;33m)\u001b[0m\u001b[1;33m\u001b[0m\u001b[1;33m\u001b[0m\u001b[0m\n\u001b[0m\u001b[0;32m     61\u001b[0m             \u001b[1;32melse\u001b[0m\u001b[1;33m:\u001b[0m\u001b[1;33m\u001b[0m\u001b[1;33m\u001b[0m\u001b[0m\n\u001b[0;32m     62\u001b[0m                 \u001b[1;31m# Otherwise, try passing it in as a file pointer\u001b[0m\u001b[1;33m\u001b[0m\u001b[1;33m\u001b[0m\u001b[1;33m\u001b[0m\u001b[0m\n",
      "\u001b[1;32m~\\anaconda3\\lib\\site-packages\\mido\\midifiles\\midifiles.py\u001b[0m in \u001b[0;36m__init__\u001b[1;34m(self, filename, file, type, ticks_per_beat, charset, debug, clip, tracks)\u001b[0m\n\u001b[0;32m    322\u001b[0m         \u001b[1;32melif\u001b[0m \u001b[0mself\u001b[0m\u001b[1;33m.\u001b[0m\u001b[0mfilename\u001b[0m \u001b[1;32mis\u001b[0m \u001b[1;32mnot\u001b[0m \u001b[1;32mNone\u001b[0m\u001b[1;33m:\u001b[0m\u001b[1;33m\u001b[0m\u001b[1;33m\u001b[0m\u001b[0m\n\u001b[0;32m    323\u001b[0m             \u001b[1;32mwith\u001b[0m \u001b[0mio\u001b[0m\u001b[1;33m.\u001b[0m\u001b[0mopen\u001b[0m\u001b[1;33m(\u001b[0m\u001b[0mfilename\u001b[0m\u001b[1;33m,\u001b[0m \u001b[1;34m'rb'\u001b[0m\u001b[1;33m)\u001b[0m \u001b[1;32mas\u001b[0m \u001b[0mfile\u001b[0m\u001b[1;33m:\u001b[0m\u001b[1;33m\u001b[0m\u001b[1;33m\u001b[0m\u001b[0m\n\u001b[1;32m--> 324\u001b[1;33m                 \u001b[0mself\u001b[0m\u001b[1;33m.\u001b[0m\u001b[0m_load\u001b[0m\u001b[1;33m(\u001b[0m\u001b[0mfile\u001b[0m\u001b[1;33m)\u001b[0m\u001b[1;33m\u001b[0m\u001b[1;33m\u001b[0m\u001b[0m\n\u001b[0m\u001b[0;32m    325\u001b[0m \u001b[1;33m\u001b[0m\u001b[0m\n\u001b[0;32m    326\u001b[0m     \u001b[1;32mdef\u001b[0m \u001b[0madd_track\u001b[0m\u001b[1;33m(\u001b[0m\u001b[0mself\u001b[0m\u001b[1;33m,\u001b[0m \u001b[0mname\u001b[0m\u001b[1;33m=\u001b[0m\u001b[1;32mNone\u001b[0m\u001b[1;33m)\u001b[0m\u001b[1;33m:\u001b[0m\u001b[1;33m\u001b[0m\u001b[1;33m\u001b[0m\u001b[0m\n",
      "\u001b[1;32m~\\anaconda3\\lib\\site-packages\\mido\\midifiles\\midifiles.py\u001b[0m in \u001b[0;36m_load\u001b[1;34m(self, infile)\u001b[0m\n\u001b[0;32m    357\u001b[0m                     \u001b[0m_dbg\u001b[0m\u001b[1;33m(\u001b[0m\u001b[1;34m'Track {}:'\u001b[0m\u001b[1;33m.\u001b[0m\u001b[0mformat\u001b[0m\u001b[1;33m(\u001b[0m\u001b[0mi\u001b[0m\u001b[1;33m)\u001b[0m\u001b[1;33m)\u001b[0m\u001b[1;33m\u001b[0m\u001b[1;33m\u001b[0m\u001b[0m\n\u001b[0;32m    358\u001b[0m \u001b[1;33m\u001b[0m\u001b[0m\n\u001b[1;32m--> 359\u001b[1;33m                 self.tracks.append(read_track(infile,\n\u001b[0m\u001b[0;32m    360\u001b[0m                                               \u001b[0mdebug\u001b[0m\u001b[1;33m=\u001b[0m\u001b[0mself\u001b[0m\u001b[1;33m.\u001b[0m\u001b[0mdebug\u001b[0m\u001b[1;33m,\u001b[0m\u001b[1;33m\u001b[0m\u001b[1;33m\u001b[0m\u001b[0m\n\u001b[0;32m    361\u001b[0m                                               clip=self.clip))\n",
      "\u001b[1;32m~\\anaconda3\\lib\\site-packages\\mido\\midifiles\\midifiles.py\u001b[0m in \u001b[0;36mread_track\u001b[1;34m(infile, debug, clip)\u001b[0m\n\u001b[0;32m    190\u001b[0m     \u001b[1;32mwhile\u001b[0m \u001b[1;32mTrue\u001b[0m\u001b[1;33m:\u001b[0m\u001b[1;33m\u001b[0m\u001b[1;33m\u001b[0m\u001b[0m\n\u001b[0;32m    191\u001b[0m         \u001b[1;31m# End of track reached.\u001b[0m\u001b[1;33m\u001b[0m\u001b[1;33m\u001b[0m\u001b[1;33m\u001b[0m\u001b[0m\n\u001b[1;32m--> 192\u001b[1;33m         \u001b[1;32mif\u001b[0m \u001b[0minfile\u001b[0m\u001b[1;33m.\u001b[0m\u001b[0mtell\u001b[0m\u001b[1;33m(\u001b[0m\u001b[1;33m)\u001b[0m \u001b[1;33m-\u001b[0m \u001b[0mstart\u001b[0m \u001b[1;33m==\u001b[0m \u001b[0msize\u001b[0m\u001b[1;33m:\u001b[0m\u001b[1;33m\u001b[0m\u001b[1;33m\u001b[0m\u001b[0m\n\u001b[0m\u001b[0;32m    193\u001b[0m             \u001b[1;32mbreak\u001b[0m\u001b[1;33m\u001b[0m\u001b[1;33m\u001b[0m\u001b[0m\n\u001b[0;32m    194\u001b[0m \u001b[1;33m\u001b[0m\u001b[0m\n",
      "\u001b[1;31mKeyboardInterrupt\u001b[0m: "
     ]
    }
   ],
   "source": [
    "# statistic data - time dis\n",
    "time_dis = {}\n",
    "for folder in dataset_folder:\n",
    "    filelist = os.listdir(folder)\n",
    "    # time_dis = {}\n",
    "    for f in filelist:\n",
    "        if f.endswith(\".mid\"):\n",
    "            midi_file = pyd.PrettyMIDI(os.path.join(folder, f))\n",
    "            ts = (midi_file.time_signature_changes)\n",
    "            for temp_ts in ts:\n",
    "                temp_ts = str(temp_ts.numerator) + \"/\" + str(temp_ts.denominator)\n",
    "                if temp_ts in time_dis:\n",
    "                    time_dis[temp_ts] += 1\n",
    "                else:\n",
    "                    time_dis[temp_ts] = 1\n",
    "    print(folder)\n",
    "    print(time_dis)\n",
    "    print(\"-----------------------\")\n",
    "print(time_dis)\n"
   ]
  },
  {
   "cell_type": "code",
   "execution_count": 25,
   "metadata": {},
   "outputs": [
    {
     "name": "stdout",
     "output_type": "stream",
     "text": [
      "../dataset/cleaned/Ragtime-perfect-Jazz 106 22\n",
      "-----------------------\n"
     ]
    }
   ],
   "source": [
    "# statistic data - max/min note\n",
    "max_note = 0\n",
    "min_note = 128\n",
    "for folder in dataset_folder:\n",
    "    filelist = os.listdir(folder)\n",
    "    max_note = 0\n",
    "    min_note = 128\n",
    "    for f in filelist:\n",
    "        if f.endswith(\".mid\"):\n",
    "            midi_file = pyd.PrettyMIDI(os.path.join(folder, f))\n",
    "            for ins in midi_file.instruments:\n",
    "                notes = [d.pitch for d in ins.notes]\n",
    "                max_note = max(max_note, max(notes))\n",
    "                min_note = min(min_note, min(notes))\n",
    "    print(folder, max_note, min_note)\n",
    "    print(\"-----------------------\")\n",
    "# print(time_dis)"
   ]
  },
  {
   "cell_type": "code",
   "execution_count": 27,
   "metadata": {},
   "outputs": [
    {
     "name": "stdout",
     "output_type": "stream",
     "text": [
      "../dataset/cleaned/Hymnal-Folk 3 3\n",
      "-------------\n",
      "../dataset/cleaned/Hymnal-Folk\\Children 199 199\n",
      "-------------\n",
      "../dataset/cleaned/Hymnal-Folk\\Classic 1360 1359\n",
      "-------------\n",
      "../dataset/cleaned/Hymnal-Folk\\New Songs 162 161\n",
      "-------------\n",
      "../dataset/cleaned/Mfilepiano-Classic 488 478\n",
      "-------------\n",
      "../dataset/cleaned/Multipianomide-Classic 27 27\n",
      "-------------\n",
      "../dataset/cleaned/Multipianomide-Classic\\albeniz 13 13\n",
      "-------------\n",
      "../dataset/cleaned/Multipianomide-Classic\\bach 3 3\n",
      "-------------\n",
      "../dataset/cleaned/Multipianomide-Classic\\balakirew 1 1\n",
      "-------------\n",
      "../dataset/cleaned/Multipianomide-Classic\\beethoven 27 27\n",
      "-------------\n",
      "../dataset/cleaned/Multipianomide-Classic\\borodin 7 7\n",
      "-------------\n",
      "../dataset/cleaned/Multipianomide-Classic\\brahms 10 8\n",
      "-------------\n",
      "../dataset/cleaned/Multipianomide-Classic\\burgmueller 9 9\n",
      "-------------\n",
      "../dataset/cleaned/Multipianomide-Classic\\chopin 48 48\n",
      "-------------\n",
      "../dataset/cleaned/Multipianomide-Classic\\clementi 17 17\n",
      "-------------\n",
      "../dataset/cleaned/Multipianomide-Classic\\debussy 10 8\n",
      "-------------\n",
      "../dataset/cleaned/Multipianomide-Classic\\format0 256 250\n",
      "-------------\n",
      "../dataset/cleaned/Multipianomide-Classic\\godowsky 2 1\n",
      "-------------\n",
      "../dataset/cleaned/Multipianomide-Classic\\granados 3 3\n",
      "-------------\n",
      "../dataset/cleaned/Multipianomide-Classic\\grieg 16 15\n",
      "-------------\n",
      "../dataset/cleaned/Multipianomide-Classic\\haydn 21 21\n",
      "-------------\n",
      "../dataset/cleaned/Multipianomide-Classic\\liszt 16 14\n",
      "-------------\n",
      "../dataset/cleaned/Multipianomide-Classic\\mendelssohn 13 13\n",
      "-------------\n",
      "../dataset/cleaned/Multipianomide-Classic\\moszkowski 1 0\n",
      "-------------\n",
      "../dataset/cleaned/Multipianomide-Classic\\mozart 21 21\n",
      "-------------\n",
      "../dataset/cleaned/Multipianomide-Classic\\mussorgsky 8 8\n",
      "-------------\n",
      "../dataset/cleaned/Multipianomide-Classic\\rachmaninow 10 7\n",
      "-------------\n",
      "../dataset/cleaned/Multipianomide-Classic\\ravel 5 1\n",
      "-------------\n",
      "../dataset/cleaned/Multipianomide-Classic\\schubert 26 26\n",
      "-------------\n",
      "../dataset/cleaned/Multipianomide-Classic\\schumann 24 24\n",
      "-------------\n",
      "../dataset/cleaned/Multipianomide-Classic\\sinding 1 1\n",
      "-------------\n",
      "../dataset/cleaned/Multipianomide-Classic\\tchaikovsky 12 12\n",
      "-------------\n",
      "../dataset/cleaned/Multipianomide-Classic\\xmas 5 5\n",
      "-------------\n",
      "../dataset/cleaned/Pop1k7-POP 4 4\n",
      "-------------\n",
      "../dataset/cleaned/Pop1k7-POP\\src_001 111 103\n",
      "-------------\n",
      "../dataset/cleaned/Pop1k7-POP\\src_002 378 377\n",
      "-------------\n",
      "../dataset/cleaned/Pop1k7-POP\\src_003 285 285\n",
      "-------------\n",
      "../dataset/cleaned/Pop1k7-POP\\src_004 973 972\n",
      "-------------\n",
      "../dataset/cleaned/Ragtime-Jazz 40 22\n",
      "-------------\n",
      "../dataset/cleaned/Ragtime-perfect-Jazz 446 445\n",
      "-------------\n"
     ]
    }
   ],
   "source": [
    "# statistic data - max/min note\n",
    "max_note = 108 # C9\n",
    "min_note = 24 # C2\n",
    "for folder in dataset_folder:\n",
    "    filelist = os.listdir(folder)\n",
    "    invalid_len = 0\n",
    "    for f in filelist:\n",
    "        if f.endswith(\".mid\"):\n",
    "            midi_file = pyd.PrettyMIDI(os.path.join(folder, f))\n",
    "            for ins in midi_file.instruments:\n",
    "                notes = [d.pitch for d in ins.notes]\n",
    "                if max(notes) > max_note or min(notes) < min_note:\n",
    "                    invalid_len += 1\n",
    "    print(folder,len(filelist), len(filelist) - invalid_len)\n",
    "    print(\"-------------\")"
   ]
  }
 ],
 "metadata": {
  "interpreter": {
   "hash": "e61e1a2ef0fe92f95c149ca45e23a8913f203f25daf0ae4c19cd70177bf05ce6"
  },
  "kernelspec": {
   "display_name": "Python 3.8.8 64-bit ('base': conda)",
   "language": "python",
   "name": "python3"
  },
  "language_info": {
   "codemirror_mode": {
    "name": "ipython",
    "version": 3
   },
   "file_extension": ".py",
   "mimetype": "text/x-python",
   "name": "python",
   "nbconvert_exporter": "python",
   "pygments_lexer": "ipython3",
   "version": "3.8.8"
  },
  "orig_nbformat": 4
 },
 "nbformat": 4,
 "nbformat_minor": 2
}
